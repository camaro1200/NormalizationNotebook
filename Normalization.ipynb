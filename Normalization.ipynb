{
 "cells": [
  {
   "cell_type": "markdown",
   "metadata": {},
   "source": [
    "# Normalization Techniques"
   ]
  },
  {
   "cell_type": "code",
   "execution_count": 12,
   "metadata": {},
   "outputs": [],
   "source": [
    "import numpy as np\n",
    "import pandas as pd\n",
    "from matplotlib import pyplot as plt\n",
    "from scipy.spatial import distance\n",
    "from numpy.linalg import matrix_power"
   ]
  },
  {
   "cell_type": "markdown",
   "metadata": {},
   "source": [
    "### Retrieve Data"
   ]
  },
  {
   "cell_type": "code",
   "execution_count": 13,
   "metadata": {},
   "outputs": [],
   "source": [
    "df = pd.read_csv('/Users/pavelshaburov/Desktop/ComputerVision/normalization/apples_pears.csv') \n",
    "X, y = df.drop('target', axis=1), df['target']\n",
    "X = X.to_numpy()\n",
    "unw = X"
   ]
  },
  {
   "cell_type": "code",
   "execution_count": 14,
   "metadata": {},
   "outputs": [
    {
     "data": {
      "text/html": [
       "<div>\n",
       "<style scoped>\n",
       "    .dataframe tbody tr th:only-of-type {\n",
       "        vertical-align: middle;\n",
       "    }\n",
       "\n",
       "    .dataframe tbody tr th {\n",
       "        vertical-align: top;\n",
       "    }\n",
       "\n",
       "    .dataframe thead th {\n",
       "        text-align: right;\n",
       "    }\n",
       "</style>\n",
       "<table border=\"1\" class=\"dataframe\">\n",
       "  <thead>\n",
       "    <tr style=\"text-align: right;\">\n",
       "      <th></th>\n",
       "      <th>yellowness</th>\n",
       "      <th>symmetry</th>\n",
       "      <th>target</th>\n",
       "    </tr>\n",
       "  </thead>\n",
       "  <tbody>\n",
       "    <tr>\n",
       "      <th>0</th>\n",
       "      <td>0.779427</td>\n",
       "      <td>0.257305</td>\n",
       "      <td>1.0</td>\n",
       "    </tr>\n",
       "    <tr>\n",
       "      <th>1</th>\n",
       "      <td>0.777005</td>\n",
       "      <td>0.015915</td>\n",
       "      <td>1.0</td>\n",
       "    </tr>\n",
       "    <tr>\n",
       "      <th>2</th>\n",
       "      <td>0.977092</td>\n",
       "      <td>0.304210</td>\n",
       "      <td>1.0</td>\n",
       "    </tr>\n",
       "    <tr>\n",
       "      <th>3</th>\n",
       "      <td>0.043032</td>\n",
       "      <td>0.140899</td>\n",
       "      <td>0.0</td>\n",
       "    </tr>\n",
       "    <tr>\n",
       "      <th>4</th>\n",
       "      <td>0.760433</td>\n",
       "      <td>0.193123</td>\n",
       "      <td>1.0</td>\n",
       "    </tr>\n",
       "    <tr>\n",
       "      <th>...</th>\n",
       "      <td>...</td>\n",
       "      <td>...</td>\n",
       "      <td>...</td>\n",
       "    </tr>\n",
       "    <tr>\n",
       "      <th>995</th>\n",
       "      <td>0.288482</td>\n",
       "      <td>0.051186</td>\n",
       "      <td>0.0</td>\n",
       "    </tr>\n",
       "    <tr>\n",
       "      <th>996</th>\n",
       "      <td>0.892424</td>\n",
       "      <td>0.795257</td>\n",
       "      <td>0.0</td>\n",
       "    </tr>\n",
       "    <tr>\n",
       "      <th>997</th>\n",
       "      <td>0.927219</td>\n",
       "      <td>0.134986</td>\n",
       "      <td>1.0</td>\n",
       "    </tr>\n",
       "    <tr>\n",
       "      <th>998</th>\n",
       "      <td>0.015830</td>\n",
       "      <td>0.481322</td>\n",
       "      <td>0.0</td>\n",
       "    </tr>\n",
       "    <tr>\n",
       "      <th>999</th>\n",
       "      <td>0.967964</td>\n",
       "      <td>0.308571</td>\n",
       "      <td>1.0</td>\n",
       "    </tr>\n",
       "  </tbody>\n",
       "</table>\n",
       "<p>1000 rows × 3 columns</p>\n",
       "</div>"
      ],
      "text/plain": [
       "     yellowness  symmetry  target\n",
       "0      0.779427  0.257305     1.0\n",
       "1      0.777005  0.015915     1.0\n",
       "2      0.977092  0.304210     1.0\n",
       "3      0.043032  0.140899     0.0\n",
       "4      0.760433  0.193123     1.0\n",
       "..          ...       ...     ...\n",
       "995    0.288482  0.051186     0.0\n",
       "996    0.892424  0.795257     0.0\n",
       "997    0.927219  0.134986     1.0\n",
       "998    0.015830  0.481322     0.0\n",
       "999    0.967964  0.308571     1.0\n",
       "\n",
       "[1000 rows x 3 columns]"
      ]
     },
     "execution_count": 14,
     "metadata": {},
     "output_type": "execute_result"
    }
   ],
   "source": [
    "df"
   ]
  },
  {
   "cell_type": "markdown",
   "metadata": {},
   "source": [
    "### Calculate Mean + Variance + Standard Deviation + Covariance"
   ]
  },
  {
   "cell_type": "code",
   "execution_count": 60,
   "metadata": {},
   "outputs": [
    {
     "name": "stdout",
     "output_type": "stream",
     "text": [
      "mean(x), mean(y):  [0.65034828 0.31319579]\n",
      "\n",
      "var(x), var(y):  [0.07386312 0.07881878]\n",
      "\n",
      "s(x), s(y):  [0.2717777  0.28074682]\n",
      "\n",
      "covariance(xy):  -0.02260218265472952\n"
     ]
    }
   ],
   "source": [
    "N = X.shape[0]\n",
    "\n",
    "#-------mean-------------\n",
    "\n",
    "def mean(X):\n",
    "    ux = np.sum(X[:,0])/N\n",
    "    uy = np.sum(X[:,1])/N\n",
    "    u = np.array([ux, uy])\n",
    "    return u\n",
    "\n",
    "#-------variance---------\n",
    "\n",
    "ux = np.sum(X[:,0])/N\n",
    "uy = np.sum(X[:,1])/N\n",
    "varx = 1/N * np.sum((X[:,0]-ux)**2)\n",
    "vary = 1/N *np.sum((X[:,1]-uy)**2)\n",
    "\n",
    "\n",
    "def variance(X):\n",
    "    varx = 1/(N) * np.sum((X[:,0]-ux)**2)\n",
    "    vary = 1/(N) *np.sum((X[:,1]-uy)**2)\n",
    "    var = np.array([varx, vary])\n",
    "    return var\n",
    "\n",
    "#-------standard dev------\n",
    "\n",
    "def standard_dev(X):\n",
    "    sx = np.sqrt(varx)\n",
    "    sy = np.sqrt(vary)\n",
    "    s = np.array([sx, sy])\n",
    "    return s\n",
    "\n",
    "#-------covariance------\n",
    "\n",
    "def covariance(X):\n",
    "    cov_xy = np.sum((X[:,0]-ux)*(X[:,1]-uy))/N\n",
    "    return cov_xy\n",
    "\n",
    "print(\"mean(x), mean(y): \", mean(X))\n",
    "print(\"\\nvar(x), var(y): \",variance(X))\n",
    "print(\"\\ns(x), s(y): \", standard_dev(X))\n",
    "print(\"\\ncovariance(xy): \", covariance(X))"
   ]
  },
  {
   "cell_type": "markdown",
   "metadata": {},
   "source": [
    "### Covaraince Matrix\n",
    "    - always a symmatric matrix"
   ]
  },
  {
   "cell_type": "code",
   "execution_count": 20,
   "metadata": {},
   "outputs": [
    {
     "name": "stdout",
     "output_type": "stream",
     "text": [
      "MyFunction:\n",
      " [[ 0.07386312 -0.02260218]\n",
      " [-0.02260218  0.07881878]]\n"
     ]
    },
    {
     "data": {
      "text/plain": [
       "array([[ 0.07393706, -0.02262481],\n",
       "       [-0.02262481,  0.07889768]])"
      ]
     },
     "execution_count": 20,
     "metadata": {},
     "output_type": "execute_result"
    }
   ],
   "source": [
    "def covariance_mat(P):\n",
    "    Q = P - mean(P)   # recenter qi = xi - mean\n",
    "    Q = Q.T           # every data point = vector\n",
    "    return 1/N*np.dot(Q, Q.T)\n",
    "    \n",
    "Sigma = covariance_mat(X)\n",
    "print(\"MyFunction:\\n\", Sigma)\n",
    "\n",
    "np.cov(X.T)"
   ]
  },
  {
   "cell_type": "markdown",
   "metadata": {},
   "source": [
    "### Mahalanobis Distance"
   ]
  },
  {
   "cell_type": "code",
   "execution_count": 21,
   "metadata": {},
   "outputs": [
    {
     "name": "stdout",
     "output_type": "stream",
     "text": [
      "MyFunction: 0.9030249724663915\n"
     ]
    },
    {
     "data": {
      "text/plain": [
       "0.9030249724663915"
      ]
     },
     "execution_count": 21,
     "metadata": {},
     "output_type": "execute_result"
    }
   ],
   "source": [
    "# Mahalanobis distance is distance in normalized space\n",
    "\n",
    "def mahalanobis_dist(p1, p2, P):\n",
    "    sigma = covariance_mat(P)\n",
    "    return np.sqrt((p1-p2).T@np.linalg.inv(sigma)@(p1-p2))\n",
    "\n",
    "print(\"MyFunction:\", mahalanobis_dist(X[0], X[1], X))\n",
    "\n",
    "distance.mahalanobis(X[0], X[1],np.linalg.inv(Sigma))"
   ]
  },
  {
   "cell_type": "markdown",
   "metadata": {},
   "source": [
    "### Normalize Dataset\n",
    "    - doesn't work!"
   ]
  },
  {
   "cell_type": "code",
   "execution_count": 71,
   "metadata": {},
   "outputs": [
    {
     "name": "stdout",
     "output_type": "stream",
     "text": [
      "-0.09253865756745594\n",
      "-0.02260218265472952\n"
     ]
    }
   ],
   "source": [
    "def normalize(P):\n",
    "    Q = P - mean(P)                # recenter\n",
    "    Q = Q/(standard_dev(P)\n",
    "    return Q\n",
    "\n",
    "norm_X = normalize(X)\n",
    "\n",
    "print(covariance(norm_X))\n",
    "print(covariance(X))"
   ]
  },
  {
   "cell_type": "code",
   "execution_count": 72,
   "metadata": {},
   "outputs": [
    {
     "name": "stdout",
     "output_type": "stream",
     "text": [
      "[0.2717777  0.28074682]\n",
      "[0.2717777  0.28074682]\n"
     ]
    }
   ],
   "source": [
    "print(np.std(X, axis=0))\n",
    "print(standard_dev(X))"
   ]
  },
  {
   "cell_type": "code",
   "execution_count": 74,
   "metadata": {},
   "outputs": [
    {
     "data": {
      "text/plain": [
       "array([[ 1.      , -0.296225],\n",
       "       [-0.296225,  1.      ]])"
      ]
     },
     "execution_count": 74,
     "metadata": {},
     "output_type": "execute_result"
    }
   ],
   "source": [
    "covariance_mat(norm_X)"
   ]
  },
  {
   "cell_type": "code",
   "execution_count": 68,
   "metadata": {},
   "outputs": [
    {
     "data": {
      "text/plain": [
       "array([[ 1.001001  , -0.29652152],\n",
       "       [-0.29652152,  1.001001  ]])"
      ]
     },
     "execution_count": 68,
     "metadata": {},
     "output_type": "execute_result"
    }
   ],
   "source": [
    "np.cov(norm_X.T)"
   ]
  },
  {
   "cell_type": "markdown",
   "metadata": {},
   "source": [
    "### Whitening Matrix W"
   ]
  },
  {
   "cell_type": "code",
   "execution_count": 23,
   "metadata": {},
   "outputs": [
    {
     "data": {
      "text/plain": [
       "array([[0.77942731, 0.25730527],\n",
       "       [0.77700501, 0.0159154 ],\n",
       "       [0.97709225, 0.30420962],\n",
       "       ...,\n",
       "       [0.92721921, 0.13498618],\n",
       "       [0.01582991, 0.48132194],\n",
       "       [0.96796389, 0.30857107]])"
      ]
     },
     "execution_count": 23,
     "metadata": {},
     "output_type": "execute_result"
    }
   ],
   "source": [
    "X"
   ]
  },
  {
   "cell_type": "code",
   "execution_count": 31,
   "metadata": {},
   "outputs": [
    {
     "data": {
      "text/plain": [
       "13.538556315367044"
      ]
     },
     "execution_count": 31,
     "metadata": {},
     "output_type": "execute_result"
    }
   ],
   "source": [
    "norm_X[:,0].var()"
   ]
  },
  {
   "cell_type": "code",
   "execution_count": null,
   "metadata": {},
   "outputs": [],
   "source": []
  }
 ],
 "metadata": {
  "kernelspec": {
   "display_name": "Python 3",
   "language": "python",
   "name": "python3"
  },
  "language_info": {
   "codemirror_mode": {
    "name": "ipython",
    "version": 3
   },
   "file_extension": ".py",
   "mimetype": "text/x-python",
   "name": "python",
   "nbconvert_exporter": "python",
   "pygments_lexer": "ipython3",
   "version": "3.8.3"
  }
 },
 "nbformat": 4,
 "nbformat_minor": 4
}
